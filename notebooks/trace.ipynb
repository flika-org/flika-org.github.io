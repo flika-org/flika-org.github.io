{
 "cells": [
  {
   "cell_type": "markdown",
   "metadata": {},
   "source": [
    "# trace.py\n",
    "---------\n",
    "    This file creates the TraceFig Window that is used to visualize ROI traces.\n",
    "## class TraceFig(QWidget):\n",
    "    Trace Window to visualize average pixel values over time.  When a TraceFig is created, it is automatically set to g.m.currentTrace. Trace Windows are used to plot traces from ROIs for visual comparison and analysis. The mouse X-index position is automatically linked to the Window frame index\n",
    "\n",
    ">### Attributes:\n",
    "    -p1: pyqtgraph PlotWidget used to plot the zoomed in range selected from the full trace\n",
    "    -p2: pyqtgraph PlotWidget below p1 used to plot the whole trace. A LinearRegionItem is provided to previewa selected range\n",
    "    -region: pyqtgraph LinearRegionItem used to select a region of the whole trace from p2\n",
    "    -rois: list of the ROIs that are plotted in the traceWindow, as a list of dictionaries [{'roi': ROI, 'p1trace': PlotDataItem, 'p2trace': PlotDataItem, 'toBeRedrawn': Boolean, 'toBeRedrawnFull': Boolean}, ...]\n",
    "    -measure: Measure instance used to measure distances\n",
    "\n",
    "> ### Signals:\n",
    "    -indexChanged: emits the x-index of the mouse when the user moves the mouse over the traceWindow\n",
    "    -finishedDrawingSignal: emitted when the traceWindow has finished plotting all its traces\n",
    "    -keyPressSignal: emits the QEvent that is created when the user presses any key on the traceWindow\n",
    "\n",
    "> #### def setCurrentTraceWindow(self):\n",
    "        If multipleTraceWindows setting is enabled, this is useful for selecting a traceWindow as the currentTrace\n",
    "\n",
    "> #### def get_roi_index(self,roi):\n",
    "        Return the index of the ROI in self.rois that resulted from the specified ROI object\n",
    "\n",
    "> #### def addROI(self,roi):\n",
    "        Plot the average trace of the specified ROI in the traceWindow\n",
    "\n",
    "> #### def removeROI(self,roi):\n",
    "        Find and remove the average trace PlotDataItem that was created from the ROI from this traceWindow. If no traces remain, close the TraceWindow\n",
    "\n",
    "> #### def hasROI(self,roi):\n",
    "        Return whether or not the ROI trace was plotted in this traceWindow\n",
    "\n",
    "### def roiPlot(roi):\n",
    "    Plot the ROI in the currentTrace window. If multipleTraceWindows is enabled or no currentTrace exists, create a new TraceWindow"
   ]
  },
  {
   "cell_type": "code",
   "execution_count": null,
   "metadata": {
    "collapsed": true
   },
   "outputs": [],
   "source": []
  }
 ],
 "metadata": {
  "kernelspec": {
   "display_name": "Python 3",
   "language": "python",
   "name": "python3"
  },
  "language_info": {
   "codemirror_mode": {
    "name": "ipython",
    "version": 3
   },
   "file_extension": ".py",
   "mimetype": "text/x-python",
   "name": "python",
   "nbconvert_exporter": "python",
   "pygments_lexer": "ipython3",
   "version": "3.4.4"
  }
 },
 "nbformat": 4,
 "nbformat_minor": 0
}
