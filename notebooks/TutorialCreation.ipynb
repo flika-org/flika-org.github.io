{
 "cells": [
  {
   "cell_type": "markdown",
   "metadata": {},
   "source": [
    "\n",
    "# Tutorial Creation\n",
    "\n",
    "## Use an IPython Notebook\n",
    "The simplest way to create a tutorial to go on our site is to use an HTML file from an IPython Notebook.  The HTML file is displayed in an iframe on the documentation page to keep CSS consistent. Jekyll requires that this page be separate from it's YAML data to keep from nesting iframes.\n",
    "\n",
    "### Step 1. Create Your IPython Notebook\n",
    ">    Creating an IPython Notrbook is easy with Jupyter. Just download jupyter using pip, and type 'jupyter notebook' in the terminal. Use Markdown formatting to create a clean, visual tutorial.  Once you've done that, Go to File, and Download As HTML file. This HTML will be displayed in the iframe.  Place this file in the docs_html/ folder.\n",
    "    \n",
    "### Step 2. Create Your YAML file\n",
    "> The YAML file is included to allow Jekyll to properly handle your HTML file without messing up FLIKA's website. This is an html with just a few lines in it, that will go in the docs/ folder\n",
    "```\n",
    "    ---\n",
    "\tlayout: single_doc\n",
    "\tfilename: name of the HTML file that you created (exclude .html)\n",
    "\ttitle: title to display at the top of the page\n",
    "    about: Extra information under the title (optional)\n",
    "\t---\n",
    "```\n",
    "Once completed, place this file inside the docs/ folder and commit your changes!\n",
    "\n",
    "### Step 3. Adding Plugins to the Sidebar\n",
    "> Once your IPython notebook html file is in docs_html/ and your YAML html file is in docs/ you can add your tutorial link to the sidebar.  Append to the \\_config.yml located in the flika-org directory in the following format:\n",
    "```\n",
    "  - top-level: New Category\n",
    "    nested-docs:\n",
    "      - nested: Tutorial String Text\n",
    "        site: TutorialFile.html\n",
    "```\n",
    "All nested items will be added as list items of the category given by top-level."
   ]
  }
 ],
 "metadata": {
  "kernelspec": {
   "display_name": "Python 3",
   "language": "python",
   "name": "python3"
  },
  "language_info": {
   "codemirror_mode": {
    "name": "ipython",
    "version": 3
   },
   "file_extension": ".py",
   "mimetype": "text/x-python",
   "name": "python",
   "nbconvert_exporter": "python",
   "pygments_lexer": "ipython3",
   "version": "3.4.4"
  }
 },
 "nbformat": 4,
 "nbformat_minor": 0
}
