{
 "cells": [
  {
   "cell_type": "markdown",
   "metadata": {},
   "source": [
    "# How Flika reads plugins\n",
    "Plugins are handled in Flika with the plugin_data.txt file in the FLIKA/plugins repository. This text file is outlined like a python dictionary, where each key-value pair is a plugin name and the URL location of its info.xml file.  An example plugin_data.txt file would look like:\n",
    "\n",
    "\n",
    "```python\n",
    "{\n",
    "'Plugin1 Name' : 'http://www.Plugin1/path/to/info.xml', #usually a raw github url\n",
    "'Plugin2 Name': 'http://www.Plugin2/path/to/info.xml'\n",
    "}\n",
    "```\n"
   ]
  }
 ],
 "metadata": {
  "kernelspec": {
   "display_name": "Python 3",
   "language": "python",
   "name": "python3"
  },
  "language_info": {
   "codemirror_mode": {
    "name": "ipython",
    "version": 3
   },
   "file_extension": ".py",
   "mimetype": "text/x-python",
   "name": "python",
   "nbconvert_exporter": "python",
   "pygments_lexer": "ipython3",
   "version": "3.4.4"
  }
 },
 "nbformat": 4,
 "nbformat_minor": 0
}
