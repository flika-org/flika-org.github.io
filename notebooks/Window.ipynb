{
 "cells": [
  {
   "cell_type": "markdown",
   "metadata": {},
   "source": [
    "# window.py\n",
    "------------------------\n",
    "## class Window(QWidget):\n",
    "    Movie Window backended by pyqtgraph ImageView, with provided support for 2D, 3D, and color images.  Drag with the left mouse button to drag the frame, drag with the right to draw an ROI. Bottom scrollbar for frame scrolling, and Lookup table on the right.  For extra commands, use self.imageview and refer to pyqtgraph ImageView documentation\n",
    "\n",
    "> ###    Attributes:\n",
    "        -imageview: pyqtgraph.ImageView item used to display the image array\n",
    "        -image: image array set when window was created. IMPORTANT: self.imageview.setImage() does not change this attribute. Most processes create new windows\n",
    "        -name: title given to this window\n",
    "        -filename: image filename if specified\n",
    "        -commands: list of string commands used to recreate the window (eg ['open_file(\"file_name.tif\")'])\n",
    "        -mx, my, mt: movie width, height, and length\n",
    "        -currentIndex: Frame index that the ImageView is showing\n",
    "        -linkedWindows: list of windows that scroll with this window\n",
    "\n",
    "> ###    Signals:\n",
    "        -closeSignal: emitted when the window is closed\n",
    "        -keyPressSignal: emitted when the user presses a key on the window\n",
    "        -deleteButtonSignal: emitted when an ROIs delete button is pressed\n",
    "        -sigTimeChanged:emitted when the currentIndex of the movie is changed (via the slider or setIndex)\n",
    "\n",
    "> #### def \\_\\_init\\_\\_(self,tif,name='Flika',filename='',commands=[],metadata=dict()):\n",
    "        Create a new window instance to display tif\n",
    "        Parameters:\n",
    "            -tif: the 2D, 3D, or 4D array image to display in the ImageView\n",
    "            -name: name and window title to display\n",
    "            -filename: name of file used to load the window, used for recreating\n",
    "            -commands: list of commands used to create a window\n",
    "            -metadata: dict of data to consider when using an image\n",
    "\n",
    "> #### def link(self, win):\n",
    "        Link window frame sliders to scroll through movies simultaneously. This can be done via sliders the context menu\n",
    "\n",
    "> #### def unlink(self, win):\n",
    "        Unlink window frame sliders. This can be done via the sliders context menu\n",
    "\n",
    "> #### def setIndex(self,index):\n",
    "        Set the current index of the movie to be index, scrolling to the frame and emitting the indexChanged event\n",
    "\n",
    "> #### def setName(self,name):\n",
    "        Set the name attribute and window title of this Window\n",
    "\n",
    "> #### def reset(self):\n",
    "        Revert the window to show its self.image attribute. This is useful when using imageview.setImage to display a temporary image, such as a process preview.\n",
    "\n",
    "> #### def paste(self):\n",
    "        Pastes an ROI that has been copied. ROI will be linked to it's parent and will translate simultaneously\n",
    "\n",
    "> #### def setAsCurrentWindow(self):\n",
    "        Select the window as the g.m.currentWindow. highlighting it and putting \"Flika - \" at the start of its title\n",
    "\n"
   ]
  }
 ],
 "metadata": {
  "kernelspec": {
   "display_name": "Python 3",
   "language": "python",
   "name": "python3"
  },
  "language_info": {
   "codemirror_mode": {
    "name": "ipython",
    "version": 3
   },
   "file_extension": ".py",
   "mimetype": "text/x-python",
   "name": "python",
   "nbconvert_exporter": "python",
   "pygments_lexer": "ipython3",
   "version": "3.4.4"
  }
 },
 "nbformat": 4,
 "nbformat_minor": 0
}
